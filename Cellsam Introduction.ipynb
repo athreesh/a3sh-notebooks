{
 "cells": [
  {
   "cell_type": "markdown",
   "metadata": {},
   "source": [
    "# CellSAM introduction\n",
    "This notebook will guide a user through using CellSAM. More details on CellSAM can be obtained at the preprint: https://www.biorxiv.org/content/10.1101/2023.11.17.567630v3\n",
    "\n",
    "CellSAM exposes two main API functions. For biologists, we recommend using `segment_cellular_image`, which accepts an image, automatically downloads weights, and returns a mask. `segment_cellular_image` has several additional functions (e.g., postprocessing, normalization, boundary removal), but can often be used out of the box. For machine learning practitioners or users with more esoteric usecases, we provide direct access to the model and weights through a `get_model` function.\n",
    "\n",
    "For more information or additional assistance, feel free to get in touch. Please email the following addresses:\n",
    "```\n",
    "ulisrael@caltech.edu\n",
    "mmarks@caltech.edu\n",
    "rdilip@caltech.edu\n",
    "qli2@caltech.edu\n",
    "```\n",
    "\n",
    "\n",
    "*edit by Anish - made a couple of edits to make this run on Brev.dev! All credit to the above researchers :)"
   ]
  },
  {
   "cell_type": "code",
   "execution_count": null,
   "metadata": {},
   "outputs": [],
   "source": [
    "!pip install -r requirements.txt"
   ]
  },
  {
   "cell_type": "code",
   "execution_count": null,
   "metadata": {
    "ExecuteTime": {
     "end_time": "2024-03-26T22:19:04.636232Z",
     "start_time": "2024-03-26T22:19:04.633768Z"
    }
   },
   "outputs": [],
   "source": [
    "from cellSAM import segment_cellular_image, get_model"
   ]
  },
  {
   "cell_type": "code",
   "execution_count": null,
   "metadata": {},
   "outputs": [],
   "source": [
    "!pip install matplotlib"
   ]
  },
  {
   "cell_type": "code",
   "execution_count": null,
   "metadata": {
    "ExecuteTime": {
     "end_time": "2024-03-26T22:19:05.164904Z",
     "start_time": "2024-03-26T22:19:05.162815Z"
    },
    "id": "hWtKT16fnH0E"
   },
   "outputs": [],
   "source": [
    "import numpy as np\n",
    "import torch\n",
    "from scipy.ndimage import binary_dilation\n",
    "import matplotlib.pyplot as plt\n",
    "import matplotlib.patches as patches"
   ]
  },
  {
   "cell_type": "markdown",
   "metadata": {
    "id": "SbJ5yxLQV4s5"
   },
   "source": [
    "# Finding all cells using CellSAM\n",
    "First, let's see how one can directly use the CellSAM module to predict all the masks in a cell. We'll load a sample image and pass it through CellSAM. When bounding boxes aren't provided, the CellFinder module automatically finds bounding boxes for all the cells. Notice we specify a GPU device. Although CellSAM will still work on a CPU, it will be quite slow if there are a large number of cells. "
   ]
  },
  {
   "cell_type": "code",
   "execution_count": null,
   "metadata": {
    "ExecuteTime": {
     "end_time": "2024-03-26T22:19:07.322217Z",
     "start_time": "2024-03-26T22:19:06.897107Z"
    }
   },
   "outputs": [],
   "source": [
    "!wget https://storage.googleapis.com/cellsam-data/yeaz.npy"
   ]
  },
  {
   "cell_type": "code",
   "execution_count": null,
   "metadata": {
    "ExecuteTime": {
     "end_time": "2024-03-26T22:19:56.871569Z",
     "start_time": "2024-03-26T22:19:56.868968Z"
    },
    "collapsed": false,
    "jupyter": {
     "outputs_hidden": false
    }
   },
   "outputs": [],
   "source": [
    "device = torch.device(\"cuda:0\" if torch.cuda.is_available() else \"cpu\")"
   ]
  },
  {
   "cell_type": "code",
   "execution_count": null,
   "metadata": {
    "ExecuteTime": {
     "end_time": "2024-03-26T22:20:18.442778Z",
     "start_time": "2024-03-26T22:20:16.969619Z"
    }
   },
   "outputs": [],
   "source": [
    "img = np.load(\"yeaz.npy\") # H, W, C\n",
    "mask, embedding, bounding_boxes = segment_cellular_image(img, device=str(device))\n",
    "plt.imshow(mask)"
   ]
  },
  {
   "cell_type": "markdown",
   "metadata": {
    "id": "oBWQnbKMXYhP"
   },
   "source": [
    "# Prompting CellSAM\n",
    "What if we want to label specific cells? This is a natural outcome if we use CellSAM as a data engine to accelerate labeling for new morphologies or cell types. Let's pick out a specific box and show how we can segment only that cell. We'll use the model directly."
   ]
  },
  {
   "cell_type": "code",
   "execution_count": null,
   "metadata": {
    "ExecuteTime": {
     "end_time": "2024-03-26T22:20:19.855916Z",
     "start_time": "2024-03-26T22:20:19.773202Z"
    },
    "colab": {
     "base_uri": "https://localhost:8080/",
     "height": 467
    },
    "id": "54TVp_DzQNry",
    "outputId": "c7a8e085-9b28-427b-f099-4cfb5e3d3b04"
   },
   "outputs": [],
   "source": [
    "# Here's the cell we want to segment!\n",
    "box = [290, 365, 60, 38] # x, y, w, h\n",
    "\n",
    "rect = patches.Rectangle(\n",
    "    (box[0], box[1]), box[2], box[3], linewidth=1, edgecolor='r', facecolor='none'\n",
    ")\n",
    "\n",
    "plt.figure(figsize=(5, 5))\n",
    "plt.imshow(img[:, :, -1], cmap='gray')\n",
    "plt.gca().add_patch(rect)\n"
   ]
  },
  {
   "cell_type": "code",
   "execution_count": null,
   "metadata": {
    "ExecuteTime": {
     "end_time": "2024-03-26T22:20:24.653367Z",
     "start_time": "2024-03-26T22:20:20.527364Z"
    },
    "colab": {
     "base_uri": "https://localhost:8080/"
    },
    "id": "7oiit3JfQ9cn",
    "outputId": "f8c929c2-0540-4c47-873a-21a3d0b85573"
   },
   "outputs": [],
   "source": [
    "model = get_model()\n",
    "\n",
    "# We can pass the bounding boxes to the model prediction function\n",
    "x1, y1, w, h = box\n",
    "x2, y2 = x1 + w, y1 + h\n",
    "scale_x, scale_y = (1024 / img.shape[1]), (1024 / img.shape[0])\n",
    "x1, x2, y1, y2 = scale_x * x1, scale_x * x2, scale_y * y1, scale_y * y2\n",
    "\n",
    "pred_mask = model.predict(\n",
    "    img[None].transpose((0,3,1,2)),\n",
    "    boxes_per_heatmap=[[[x1, x2, y1, y2]]]\n",
    ")[0]"
   ]
  },
  {
   "cell_type": "markdown",
   "metadata": {
    "id": "AVl2S5Eda1MP"
   },
   "source": [
    "Now, let's visualize the predicted mask. We'll superimpose the mask as an edge onto our image to see it more clearly"
   ]
  },
  {
   "cell_type": "code",
   "execution_count": null,
   "metadata": {
    "ExecuteTime": {
     "end_time": "2024-03-26T22:17:32.733693Z",
     "start_time": "2024-03-26T22:17:32.639787Z"
    },
    "colab": {
     "base_uri": "https://localhost:8080/",
     "height": 452
    },
    "id": "aHUVKbjrS2id",
    "outputId": "fae2888c-ef65-4812-82c1-ea918855ed7e"
   },
   "outputs": [],
   "source": [
    "dilated_mask = binary_dilation(pred_mask)\n",
    "edges = dilated_mask ^ pred_mask\n",
    "\n",
    "full_img = np.array([img[:, :, -1]] * 3).transpose((1,2,0))\n",
    "r, c = np.where(np.isclose(1.0, edges))\n",
    "full_img[r, c] = [1,0,0]\n",
    "plt.imshow(full_img)"
   ]
  },
  {
   "cell_type": "markdown",
   "metadata": {},
   "source": [
    "And that's it! For more info on CellSAM, feel free to reach out or check out the official deployment at https://cellsam.deepcell.org."
   ]
  }
 ],
 "metadata": {
  "accelerator": "GPU",
  "colab": {
   "gpuType": "T4",
   "machine_shape": "hm",
   "provenance": []
  },
  "kernelspec": {
   "display_name": "Python 3 (ipykernel)",
   "language": "python",
   "name": "python3"
  },
  "language_info": {
   "codemirror_mode": {
    "name": "ipython",
    "version": 3
   },
   "file_extension": ".py",
   "mimetype": "text/x-python",
   "name": "python",
   "nbconvert_exporter": "python",
   "pygments_lexer": "ipython3",
   "version": "3.10.12"
  }
 },
 "nbformat": 4,
 "nbformat_minor": 4
}
